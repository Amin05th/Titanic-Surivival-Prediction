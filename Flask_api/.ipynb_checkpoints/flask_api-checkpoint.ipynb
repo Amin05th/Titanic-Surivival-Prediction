{
 "cells": [
  {
   "cell_type": "code",
   "execution_count": 52,
   "id": "9722d75a",
   "metadata": {},
   "outputs": [],
   "source": [
    "import pandas as pd\n",
    "from flask import Flask, jsonify\n",
    "from werkzeug.serving import run_simple\n",
    "import time"
   ]
  },
  {
   "cell_type": "code",
   "execution_count": 53,
   "id": "c70016a7",
   "metadata": {},
   "outputs": [],
   "source": [
    "app = Flask(__name__)\n",
    "df = pd.read_csv(\"../predictions.csv\")\n",
    "data = dict(zip(df[\"PassengerId\"], df[\"Survived\"]))"
   ]
  },
  {
   "cell_type": "code",
   "execution_count": 54,
   "id": "90549d61",
   "metadata": {},
   "outputs": [],
   "source": [
    "@app.route(\"/\")\n",
    "def index():\n",
    "    return jsonify(data)"
   ]
  },
  {
   "cell_type": "code",
   "execution_count": 55,
   "id": "a219dd45",
   "metadata": {},
   "outputs": [],
   "source": [
    "@app.route(\"/<id>\")\n",
    "def single_person(id):\n",
    "    return jsonify({id: data[int(id)]})"
   ]
  },
  {
   "cell_type": "code",
   "execution_count": 56,
   "id": "e93d2820",
   "metadata": {},
   "outputs": [],
   "source": [
    "@app.errorhandler(500)\n",
    "def keyerror(e):\n",
    "    return jsonify(error=str(e)), {\"Refresh\": \"5; url=/\"}"
   ]
  },
  {
   "cell_type": "code",
   "execution_count": 50,
   "id": "3e17bc43",
   "metadata": {},
   "outputs": [
    {
     "name": "stderr",
     "output_type": "stream",
     "text": [
      "\u001b[31m\u001b[1mWARNING: This is a development server. Do not use it in a production deployment. Use a production WSGI server instead.\u001b[0m\n",
      " * Running on all addresses (0.0.0.0)\n",
      " * Running on http://127.0.0.1:10000\n",
      " * Running on http://10.0.0.181:10000\n",
      "\u001b[33mPress CTRL+C to quit\u001b[0m\n",
      "127.0.0.1 - - [19/Mar/2023 10:09:49] \"GET / HTTP/1.1\" 200 -\n",
      "[2023-03-19 10:09:49,904] ERROR in app: Exception on /favicon.ico [GET]\n",
      "Traceback (most recent call last):\n",
      "  File \"/home/amin/anaconda3/envs/TitanicSurvivalPrediction/lib/python3.10/site-packages/flask/app.py\", line 2528, in wsgi_app\n",
      "    response = self.full_dispatch_request()\n",
      "  File \"/home/amin/anaconda3/envs/TitanicSurvivalPrediction/lib/python3.10/site-packages/flask/app.py\", line 1825, in full_dispatch_request\n",
      "    rv = self.handle_user_exception(e)\n",
      "  File \"/home/amin/anaconda3/envs/TitanicSurvivalPrediction/lib/python3.10/site-packages/flask/app.py\", line 1823, in full_dispatch_request\n",
      "    rv = self.dispatch_request()\n",
      "  File \"/home/amin/anaconda3/envs/TitanicSurvivalPrediction/lib/python3.10/site-packages/flask/app.py\", line 1799, in dispatch_request\n",
      "    return self.ensure_sync(self.view_functions[rule.endpoint])(**view_args)\n",
      "  File \"/tmp/ipykernel_3665/980250530.py\", line 3, in single_person\n",
      "    return jsonify({id: data[int(id)]})\n",
      "ValueError: invalid literal for int() with base 10: 'favicon.ico'\n",
      "127.0.0.1 - - [19/Mar/2023 10:09:49] \"GET /favicon.ico HTTP/1.1\" 200 -\n",
      "[2023-03-19 10:10:10,538] ERROR in app: Exception on /1 [GET]\n",
      "Traceback (most recent call last):\n",
      "  File \"/home/amin/anaconda3/envs/TitanicSurvivalPrediction/lib/python3.10/site-packages/flask/app.py\", line 2528, in wsgi_app\n",
      "    response = self.full_dispatch_request()\n",
      "  File \"/home/amin/anaconda3/envs/TitanicSurvivalPrediction/lib/python3.10/site-packages/flask/app.py\", line 1825, in full_dispatch_request\n",
      "    rv = self.handle_user_exception(e)\n",
      "  File \"/home/amin/anaconda3/envs/TitanicSurvivalPrediction/lib/python3.10/site-packages/flask/app.py\", line 1823, in full_dispatch_request\n",
      "    rv = self.dispatch_request()\n",
      "  File \"/home/amin/anaconda3/envs/TitanicSurvivalPrediction/lib/python3.10/site-packages/flask/app.py\", line 1799, in dispatch_request\n",
      "    return self.ensure_sync(self.view_functions[rule.endpoint])(**view_args)\n",
      "  File \"/tmp/ipykernel_3665/980250530.py\", line 3, in single_person\n",
      "    return jsonify({id: data[int(id)]})\n",
      "KeyError: 1\n",
      "127.0.0.1 - - [19/Mar/2023 10:10:10] \"GET /1 HTTP/1.1\" 200 -\n",
      "[2023-03-19 10:10:10,623] ERROR in app: Exception on /favicon.ico [GET]\n",
      "Traceback (most recent call last):\n",
      "  File \"/home/amin/anaconda3/envs/TitanicSurvivalPrediction/lib/python3.10/site-packages/flask/app.py\", line 2528, in wsgi_app\n",
      "    response = self.full_dispatch_request()\n",
      "  File \"/home/amin/anaconda3/envs/TitanicSurvivalPrediction/lib/python3.10/site-packages/flask/app.py\", line 1825, in full_dispatch_request\n",
      "    rv = self.handle_user_exception(e)\n",
      "  File \"/home/amin/anaconda3/envs/TitanicSurvivalPrediction/lib/python3.10/site-packages/flask/app.py\", line 1823, in full_dispatch_request\n",
      "    rv = self.dispatch_request()\n",
      "  File \"/home/amin/anaconda3/envs/TitanicSurvivalPrediction/lib/python3.10/site-packages/flask/app.py\", line 1799, in dispatch_request\n",
      "    return self.ensure_sync(self.view_functions[rule.endpoint])(**view_args)\n",
      "  File \"/tmp/ipykernel_3665/980250530.py\", line 3, in single_person\n",
      "    return jsonify({id: data[int(id)]})\n",
      "ValueError: invalid literal for int() with base 10: 'favicon.ico'\n",
      "127.0.0.1 - - [19/Mar/2023 10:10:10] \"GET /favicon.ico HTTP/1.1\" 200 -\n",
      "127.0.0.1 - - [19/Mar/2023 10:10:15] \"GET / HTTP/1.1\" 200 -\n",
      "[2023-03-19 10:10:15,814] ERROR in app: Exception on /favicon.ico [GET]\n",
      "Traceback (most recent call last):\n",
      "  File \"/home/amin/anaconda3/envs/TitanicSurvivalPrediction/lib/python3.10/site-packages/flask/app.py\", line 2528, in wsgi_app\n",
      "    response = self.full_dispatch_request()\n",
      "  File \"/home/amin/anaconda3/envs/TitanicSurvivalPrediction/lib/python3.10/site-packages/flask/app.py\", line 1825, in full_dispatch_request\n",
      "    rv = self.handle_user_exception(e)\n",
      "  File \"/home/amin/anaconda3/envs/TitanicSurvivalPrediction/lib/python3.10/site-packages/flask/app.py\", line 1823, in full_dispatch_request\n",
      "    rv = self.dispatch_request()\n",
      "  File \"/home/amin/anaconda3/envs/TitanicSurvivalPrediction/lib/python3.10/site-packages/flask/app.py\", line 1799, in dispatch_request\n",
      "    return self.ensure_sync(self.view_functions[rule.endpoint])(**view_args)\n",
      "  File \"/tmp/ipykernel_3665/980250530.py\", line 3, in single_person\n",
      "    return jsonify({id: data[int(id)]})\n",
      "ValueError: invalid literal for int() with base 10: 'favicon.ico'\n",
      "127.0.0.1 - - [19/Mar/2023 10:10:15] \"GET /favicon.ico HTTP/1.1\" 200 -\n",
      "[2023-03-19 10:13:23,406] ERROR in app: Exception on /1 [GET]\n",
      "Traceback (most recent call last):\n",
      "  File \"/home/amin/anaconda3/envs/TitanicSurvivalPrediction/lib/python3.10/site-packages/flask/app.py\", line 2528, in wsgi_app\n",
      "    response = self.full_dispatch_request()\n",
      "  File \"/home/amin/anaconda3/envs/TitanicSurvivalPrediction/lib/python3.10/site-packages/flask/app.py\", line 1825, in full_dispatch_request\n",
      "    rv = self.handle_user_exception(e)\n",
      "  File \"/home/amin/anaconda3/envs/TitanicSurvivalPrediction/lib/python3.10/site-packages/flask/app.py\", line 1823, in full_dispatch_request\n",
      "    rv = self.dispatch_request()\n",
      "  File \"/home/amin/anaconda3/envs/TitanicSurvivalPrediction/lib/python3.10/site-packages/flask/app.py\", line 1799, in dispatch_request\n",
      "    return self.ensure_sync(self.view_functions[rule.endpoint])(**view_args)\n",
      "  File \"/tmp/ipykernel_3665/980250530.py\", line 3, in single_person\n",
      "    return jsonify({id: data[int(id)]})\n",
      "KeyError: 1\n",
      "127.0.0.1 - - [19/Mar/2023 10:13:23] \"GET /1 HTTP/1.1\" 200 -\n",
      "[2023-03-19 10:13:23,559] ERROR in app: Exception on /favicon.ico [GET]\n",
      "Traceback (most recent call last):\n",
      "  File \"/home/amin/anaconda3/envs/TitanicSurvivalPrediction/lib/python3.10/site-packages/flask/app.py\", line 2528, in wsgi_app\n",
      "    response = self.full_dispatch_request()\n",
      "  File \"/home/amin/anaconda3/envs/TitanicSurvivalPrediction/lib/python3.10/site-packages/flask/app.py\", line 1825, in full_dispatch_request\n",
      "    rv = self.handle_user_exception(e)\n",
      "  File \"/home/amin/anaconda3/envs/TitanicSurvivalPrediction/lib/python3.10/site-packages/flask/app.py\", line 1823, in full_dispatch_request\n",
      "    rv = self.dispatch_request()\n",
      "  File \"/home/amin/anaconda3/envs/TitanicSurvivalPrediction/lib/python3.10/site-packages/flask/app.py\", line 1799, in dispatch_request\n",
      "    return self.ensure_sync(self.view_functions[rule.endpoint])(**view_args)\n",
      "  File \"/tmp/ipykernel_3665/980250530.py\", line 3, in single_person\n",
      "    return jsonify({id: data[int(id)]})\n",
      "ValueError: invalid literal for int() with base 10: 'favicon.ico'\n",
      "127.0.0.1 - - [19/Mar/2023 10:13:23] \"GET /favicon.ico HTTP/1.1\" 200 -\n",
      "127.0.0.1 - - [19/Mar/2023 10:13:28] \"GET / HTTP/1.1\" 200 -\n",
      "[2023-03-19 10:13:28,623] ERROR in app: Exception on /favicon.ico [GET]\n",
      "Traceback (most recent call last):\n",
      "  File \"/home/amin/anaconda3/envs/TitanicSurvivalPrediction/lib/python3.10/site-packages/flask/app.py\", line 2528, in wsgi_app\n",
      "    response = self.full_dispatch_request()\n",
      "  File \"/home/amin/anaconda3/envs/TitanicSurvivalPrediction/lib/python3.10/site-packages/flask/app.py\", line 1825, in full_dispatch_request\n",
      "    rv = self.handle_user_exception(e)\n",
      "  File \"/home/amin/anaconda3/envs/TitanicSurvivalPrediction/lib/python3.10/site-packages/flask/app.py\", line 1823, in full_dispatch_request\n",
      "    rv = self.dispatch_request()\n",
      "  File \"/home/amin/anaconda3/envs/TitanicSurvivalPrediction/lib/python3.10/site-packages/flask/app.py\", line 1799, in dispatch_request\n",
      "    return self.ensure_sync(self.view_functions[rule.endpoint])(**view_args)\n",
      "  File \"/tmp/ipykernel_3665/980250530.py\", line 3, in single_person\n",
      "    return jsonify({id: data[int(id)]})\n",
      "ValueError: invalid literal for int() with base 10: 'favicon.ico'\n",
      "127.0.0.1 - - [19/Mar/2023 10:13:28] \"GET /favicon.ico HTTP/1.1\" 200 -\n",
      "127.0.0.1 - - [19/Mar/2023 10:17:54] \"GET / HTTP/1.1\" 200 -\n",
      "[2023-03-19 10:17:54,808] ERROR in app: Exception on /favicon.ico [GET]\n",
      "Traceback (most recent call last):\n",
      "  File \"/home/amin/anaconda3/envs/TitanicSurvivalPrediction/lib/python3.10/site-packages/flask/app.py\", line 2528, in wsgi_app\n",
      "    response = self.full_dispatch_request()\n",
      "  File \"/home/amin/anaconda3/envs/TitanicSurvivalPrediction/lib/python3.10/site-packages/flask/app.py\", line 1825, in full_dispatch_request\n",
      "    rv = self.handle_user_exception(e)\n",
      "  File \"/home/amin/anaconda3/envs/TitanicSurvivalPrediction/lib/python3.10/site-packages/flask/app.py\", line 1823, in full_dispatch_request\n",
      "    rv = self.dispatch_request()\n",
      "  File \"/home/amin/anaconda3/envs/TitanicSurvivalPrediction/lib/python3.10/site-packages/flask/app.py\", line 1799, in dispatch_request\n",
      "    return self.ensure_sync(self.view_functions[rule.endpoint])(**view_args)\n",
      "  File \"/tmp/ipykernel_3665/980250530.py\", line 3, in single_person\n",
      "    return jsonify({id: data[int(id)]})\n",
      "ValueError: invalid literal for int() with base 10: 'favicon.ico'\n"
     ]
    },
    {
     "name": "stderr",
     "output_type": "stream",
     "text": [
      "127.0.0.1 - - [19/Mar/2023 10:17:54] \"GET /favicon.ico HTTP/1.1\" 200 -\n"
     ]
    }
   ],
   "source": [
    "if __name__ == \"__main__\":\n",
    "    run_simple(\"0.0.0.0\",application=app, port=10000, threaded=True)"
   ]
  }
 ],
 "metadata": {
  "kernelspec": {
   "display_name": "Python 3 (ipykernel)",
   "language": "python",
   "name": "python3"
  },
  "language_info": {
   "codemirror_mode": {
    "name": "ipython",
    "version": 3
   },
   "file_extension": ".py",
   "mimetype": "text/x-python",
   "name": "python",
   "nbconvert_exporter": "python",
   "pygments_lexer": "ipython3",
   "version": "3.10.0"
  }
 },
 "nbformat": 4,
 "nbformat_minor": 5
}
